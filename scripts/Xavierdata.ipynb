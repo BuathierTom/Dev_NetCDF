{
 "cells": [
  {
   "attachments": {},
   "cell_type": "markdown",
   "metadata": {
    "toc": true
   },
   "source": [
    "<h1>Table of Contents<span class=\"tocSkip\"></span></h1>\n",
    "<div class=\"toc\"><ul class=\"toc-item\"><li><span><a href=\"#Read\" data-toc-modified-id=\"Read-1\"><span class=\"toc-item-num\">1&nbsp;&nbsp;</span>Read</a></span></li><li><span><a href=\"#Test-data\" data-toc-modified-id=\"Test-data-2\"><span class=\"toc-item-num\">2&nbsp;&nbsp;</span>Test data</a></span></li><li><span><a href=\"#basic\" data-toc-modified-id=\"basic-3\"><span class=\"toc-item-num\">3&nbsp;&nbsp;</span>basic</a></span></li><li><span><a href=\"#mission-dim\" data-toc-modified-id=\"mission-dim-4\"><span class=\"toc-item-num\">4&nbsp;&nbsp;</span>mission dim</a></span></li><li><span><a href=\"#Option-To-xarray-3Dim\" data-toc-modified-id=\"Option-To-xarray-3Dim-5\"><span class=\"toc-item-num\">5&nbsp;&nbsp;</span>Option To xarray 3Dim</a></span></li><li><span><a href=\"#Time-dim*\" data-toc-modified-id=\"Time-dim*-6\"><span class=\"toc-item-num\">6&nbsp;&nbsp;</span>Time dim*</a></span></li></ul></div>"
   ]
  },
  {
   "cell_type": "code",
   "execution_count": null,
   "metadata": {
    "ExecuteTime": {
     "end_time": "2023-06-05T08:47:28.797414Z",
     "start_time": "2023-06-05T08:47:26.039585Z"
    }
   },
   "outputs": [],
   "source": [
    "%pylab inline\n",
    "import os\n",
    "import sys\n",
    "import xarray as xr\n",
    "import matplotlib.pyplot as plt\n",
    "import pandas as pd\n",
    "from glob import glob "
   ]
  },
  {
   "attachments": {},
   "cell_type": "markdown",
   "metadata": {},
   "source": [
    "# Read"
   ]
  },
  {
   "cell_type": "code",
   "execution_count": null,
   "metadata": {
    "ExecuteTime": {
     "end_time": "2023-06-06T07:29:13.481132Z",
     "start_time": "2023-06-06T07:29:13.232672Z"
    }
   },
   "outputs": [],
   "source": [
    "path_home = \"../data/extract_database_Guyane_Bresil.txt\"\n",
    "df = pd.read_csv(path_home, sep=\"|\", skipinitialspace = True)\n",
    "df = df.rename(columns=lambda x: x.strip())\n",
    "df[\"num_station\"] = df.num_station.str.strip()\n",
    "df[\"mission\"] = df.mission.str.strip()\n",
    "df[\"heure\"] = df.heure.str.strip()\n",
    "df[\"jour\"] = df.jour.str.strip()\n",
    "df = df.replace(-999, np.nan)\n",
    "df = df.loc[~df[\"num_station\"].isnull(), ]  #type: ignore\n",
    "df.loc[(df.heure.isnull())==True,\"heure\"] = \"00:00:00\"\n",
    "df[\"time\"]  = df.jour + \"T\" + df.heure\n",
    "df[\"time\"] = pd.to_datetime(df[\"time\"],format='%Y-%m-%dT%H:%M:%S')\n",
    "df = df[df.duplicated() == False] # 26\n",
    "df = df.loc[((df.chla.isnull() == False) | (df.mes.isnull() == False) | (df.doc.isnull() == False)| (df.poc.isnull() == False)),]\n",
    "df2 = df.copy()\n",
    "df[\"coord\"] = df[['lat', 'lon', 'time', 'profondeur']].apply(tuple, axis=1)\n",
    "#df = df.set_index(\"time\")"
   ]
  },
  {
   "attachments": {},
   "cell_type": "markdown",
   "metadata": {
    "heading_collapsed": true
   },
   "source": [
    "# Test data "
   ]
  },
  {
   "cell_type": "code",
   "execution_count": null,
   "metadata": {
    "ExecuteTime": {
     "end_time": "2023-06-05T11:51:32.179767Z",
     "start_time": "2023-06-05T11:51:32.140625Z"
    },
    "hidden": true,
    "scrolled": true
   },
   "outputs": [],
   "source": [
    "df"
   ]
  },
  {
   "cell_type": "code",
   "execution_count": null,
   "metadata": {
    "ExecuteTime": {
     "end_time": "2023-06-05T11:51:42.175457Z",
     "start_time": "2023-06-05T11:51:42.157123Z"
    },
    "hidden": true
   },
   "outputs": [],
   "source": [
    "df.loc[(df.lat == 7.73) & (df.lon == -47.8),] #type: ignore"
   ]
  },
  {
   "cell_type": "code",
   "execution_count": null,
   "metadata": {
    "ExecuteTime": {
     "end_time": "2023-06-05T11:52:51.212515Z",
     "start_time": "2023-06-05T11:52:51.192319Z"
    },
    "hidden": true
   },
   "outputs": [],
   "source": [
    "df.loc[(df.lat == -3.628397 ) & (df.lon == -31.980950),] #type: ignore"
   ]
  },
  {
   "cell_type": "code",
   "execution_count": null,
   "metadata": {
    "ExecuteTime": {
     "end_time": "2023-06-06T07:20:31.046871Z",
     "start_time": "2023-06-06T07:20:30.918354Z"
    },
    "hidden": true
   },
   "outputs": [],
   "source": [
    "df.loc[(df.lat == -22.868450 ) & (df.lon == -43.212580 ),] #type: ignore"
   ]
  },
  {
   "cell_type": "code",
   "execution_count": null,
   "metadata": {
    "ExecuteTime": {
     "end_time": "2023-06-05T12:08:47.049625Z",
     "start_time": "2023-06-05T12:08:47.009152Z"
    },
    "hidden": true
   },
   "outputs": [],
   "source": [
    "df.loc[df.coord.duplicated()==True,] #type: ignore"
   ]
  },
  {
   "attachments": {},
   "cell_type": "markdown",
   "metadata": {
    "heading_collapsed": true
   },
   "source": [
    "# basic"
   ]
  },
  {
   "cell_type": "code",
   "execution_count": null,
   "metadata": {
    "ExecuteTime": {
     "end_time": "2023-06-06T07:22:34.398001Z",
     "start_time": "2023-06-06T07:22:34.340557Z"
    },
    "hidden": true
   },
   "outputs": [],
   "source": [
    "df2 = df2.loc[:,[ \"chla\", \"lat\", \"lon\", \"doc\", \"poc\", \"mes\", \"profondeur\", \"time\"]]\n",
    "df2 = df2.set_index(\"time\")\n",
    "df2.to_xarray()"
   ]
  },
  {
   "attachments": {},
   "cell_type": "markdown",
   "metadata": {
    "heading_collapsed": true
   },
   "source": [
    "# mission dim"
   ]
  },
  {
   "cell_type": "code",
   "execution_count": null,
   "metadata": {
    "ExecuteTime": {
     "end_time": "2023-06-06T07:25:10.322465Z",
     "start_time": "2023-06-06T07:25:10.161678Z"
    },
    "hidden": true
   },
   "outputs": [],
   "source": [
    "df2.set_index(['mission', 'time'], inplace=True)\n",
    "df2"
   ]
  },
  {
   "cell_type": "code",
   "execution_count": null,
   "metadata": {
    "ExecuteTime": {
     "end_time": "2023-06-06T07:25:11.785197Z",
     "start_time": "2023-06-06T07:25:11.776222Z"
    },
    "hidden": true
   },
   "outputs": [],
   "source": [
    "df2 = df2.loc[:,[ \"chla\", \"lat\", \"lon\", \"doc\", \"poc\", \"mes\", \"profondeur\"]]"
   ]
  },
  {
   "cell_type": "code",
   "execution_count": null,
   "metadata": {
    "ExecuteTime": {
     "end_time": "2023-06-06T07:25:12.534373Z",
     "start_time": "2023-06-06T07:25:12.489401Z"
    },
    "hidden": true
   },
   "outputs": [],
   "source": [
    "df2"
   ]
  },
  {
   "cell_type": "code",
   "execution_count": null,
   "metadata": {
    "ExecuteTime": {
     "end_time": "2023-06-06T07:25:18.851468Z",
     "start_time": "2023-06-06T07:25:18.760499Z"
    },
    "hidden": true
   },
   "outputs": [],
   "source": [
    "df3 = df2.loc[~df2.index.duplicated()]\n",
    "xdf = df3.to_xarray()"
   ]
  },
  {
   "cell_type": "code",
   "execution_count": null,
   "metadata": {
    "ExecuteTime": {
     "end_time": "2023-06-06T07:25:19.682950Z",
     "start_time": "2023-06-06T07:25:19.623374Z"
    },
    "hidden": true
   },
   "outputs": [],
   "source": [
    "xdf"
   ]
  },
  {
   "cell_type": "code",
   "execution_count": null,
   "metadata": {
    "ExecuteTime": {
     "end_time": "2023-06-06T07:26:35.532684Z",
     "start_time": "2023-06-06T07:26:35.493784Z"
    },
    "hidden": true
   },
   "outputs": [],
   "source": [
    "xdf.chla[8,:]"
   ]
  },
  {
   "cell_type": "code",
   "execution_count": null,
   "metadata": {
    "ExecuteTime": {
     "end_time": "2023-06-06T07:28:30.596851Z",
     "start_time": "2023-06-06T07:28:30.579788Z"
    },
    "hidden": true
   },
   "outputs": [],
   "source": [
    "xdf.chla.sel(mission='Guyane2009')"
   ]
  },
  {
   "attachments": {},
   "cell_type": "markdown",
   "metadata": {
    "heading_collapsed": true
   },
   "source": [
    "# Option To xarray 3Dim"
   ]
  },
  {
   "cell_type": "code",
   "execution_count": null,
   "metadata": {
    "ExecuteTime": {
     "end_time": "2023-06-05T12:53:38.248919Z",
     "start_time": "2023-06-05T12:53:38.193785Z"
    },
    "hidden": true,
    "scrolled": true
   },
   "outputs": [],
   "source": [
    "df2[\"coord\"] = df2[['lat', 'lon', 'time']].apply(tuple, axis=1)\n",
    "df2 = df2.loc[df2.coord.duplicated()==False,]\n",
    "df2 = df2.reset_index()\n",
    "df2 = df2.loc[:,[\"lat\", \"lon\", \"time\", \"chla\"]]"
   ]
  },
  {
   "cell_type": "code",
   "execution_count": null,
   "metadata": {
    "ExecuteTime": {
     "end_time": "2023-06-05T12:53:39.838157Z",
     "start_time": "2023-06-05T12:53:39.824213Z"
    },
    "hidden": true
   },
   "outputs": [],
   "source": [
    "df2.set_index(['lat', 'lon', 'time'], inplace=True)"
   ]
  },
  {
   "cell_type": "code",
   "execution_count": null,
   "metadata": {
    "ExecuteTime": {
     "end_time": "2023-06-05T12:53:40.464800Z",
     "start_time": "2023-06-05T12:53:40.431299Z"
    },
    "hidden": true,
    "scrolled": true
   },
   "outputs": [],
   "source": [
    "df2"
   ]
  },
  {
   "cell_type": "code",
   "execution_count": null,
   "metadata": {
    "ExecuteTime": {
     "end_time": "2023-06-05T12:53:52.064782Z",
     "start_time": "2023-06-05T12:53:52.050295Z"
    },
    "hidden": true,
    "scrolled": true
   },
   "outputs": [],
   "source": [
    "df2.to_xarray()"
   ]
  },
  {
   "attachments": {},
   "cell_type": "markdown",
   "metadata": {},
   "source": [
    "# Time dim*"
   ]
  },
  {
   "cell_type": "code",
   "execution_count": null,
   "metadata": {
    "ExecuteTime": {
     "end_time": "2023-06-06T07:43:53.423986Z",
     "start_time": "2023-06-06T07:43:53.257235Z"
    }
   },
   "outputs": [],
   "source": [
    "df.set_index(\"time\", inplace=True)\n",
    "df.sort_index(inplace = True)"
   ]
  },
  {
   "cell_type": "code",
   "execution_count": null,
   "metadata": {
    "ExecuteTime": {
     "end_time": "2023-06-06T07:44:26.413686Z",
     "start_time": "2023-06-06T07:44:26.398889Z"
    }
   },
   "outputs": [],
   "source": [
    "\n",
    "# define data with variable attributes\n",
    "data_vars = {'Chla':(['time'], df.chla.values, \n",
    "                         {'units': 'mg/m3', \n",
    "                          'long_name':'Chlorophyll-a'}),\n",
    "            'MES':(['time'], df.mes.values, \n",
    "                         {'units': '...', \n",
    "                          'long_name':'...'}),\n",
    "            'POC':(['time'], df.poc.values, \n",
    "                         {'units': '...', \n",
    "                          'long_name':'...'}),\n",
    "            'DOC':(['time'], df.doc.values, \n",
    "                         {'units': '...', \n",
    "                          'long_name':'...'}),\n",
    "            'latitude':(['time'], df.lat.values, \n",
    "                         {'units': '...', \n",
    "                          'long_name':'...'}),\n",
    "            'longitude':(['time'], df.lon.values, \n",
    "                         {'units': '...', \n",
    "                          'long_name':'...'}),\n",
    "             'mission':(['time'], df.mission.values, \n",
    "                         {'units': '...', \n",
    "                          'long_name':'...'}),\n",
    "             'num_station':(['time'], df.num_station.values, \n",
    "                         {'units': '...', \n",
    "                          'long_name':'...'}),\n",
    "             'prof':(['time'], df.profondeur.values, \n",
    "                         {'units': '...', \n",
    "                          'long_name':'...'})}\n",
    "\n",
    "# define coordinates\n",
    "coords= {'time': (['time'], df.index.values)}\n",
    "\n",
    "\n",
    "# define global attributes\n",
    "attrs = {'creation_date':\"05/06/2023\", \n",
    "         'author':'Xavier Meriaux', \n",
    "         'email':'xavier.meriaux@univ-littoral.fr'}\n",
    "\n",
    "# create dataset\n",
    "ds = xr.Dataset(data_vars=data_vars, \n",
    "                coords=coords, \n",
    "                attrs=attrs)"
   ]
  },
  {
   "cell_type": "code",
   "execution_count": null,
   "metadata": {
    "ExecuteTime": {
     "end_time": "2023-06-06T07:44:28.525151Z",
     "start_time": "2023-06-06T07:44:28.472901Z"
    }
   },
   "outputs": [],
   "source": [
    "ds"
   ]
  },
  {
   "cell_type": "code",
   "execution_count": null,
   "metadata": {
    "ExecuteTime": {
     "end_time": "2023-06-06T07:37:43.504060Z",
     "start_time": "2023-06-06T07:37:43.499965Z"
    }
   },
   "outputs": [],
   "source": [
    "#ds.chla.attrs[\"coucou\"] = \"Je suis là\""
   ]
  },
  {
   "cell_type": "code",
   "execution_count": null,
   "metadata": {
    "ExecuteTime": {
     "end_time": "2023-06-06T07:44:33.989076Z",
     "start_time": "2023-06-06T07:44:33.958823Z"
    }
   },
   "outputs": [],
   "source": [
    "ds.Chla"
   ]
  },
  {
   "cell_type": "code",
   "execution_count": null,
   "metadata": {
    "ExecuteTime": {
     "end_time": "2023-06-06T07:44:37.779824Z",
     "start_time": "2023-06-06T07:44:37.724017Z"
    },
    "collapsed": true,
    "jupyter": {
     "outputs_hidden": true
    }
   },
   "outputs": [],
   "source": [
    "ds.Chla.sel(time=slice(\"2005-01-01T00:00:00\", \"2006-01-01\")).plot(ls=\":\")"
   ]
  }
 ],
 "metadata": {
  "kernelspec": {
   "display_name": "Python 3 (ipykernel)",
   "language": "python",
   "name": "python3"
  },
  "language_info": {
   "codemirror_mode": {
    "name": "ipython",
    "version": 3
   },
   "file_extension": ".py",
   "mimetype": "text/x-python",
   "name": "python",
   "nbconvert_exporter": "python",
   "pygments_lexer": "ipython3",
   "version": "3.10.5"
  },
  "toc": {
   "base_numbering": 1,
   "nav_menu": {},
   "number_sections": true,
   "sideBar": true,
   "skip_h1_title": false,
   "title_cell": "Table of Contents",
   "title_sidebar": "Contents",
   "toc_cell": true,
   "toc_position": {},
   "toc_section_display": true,
   "toc_window_display": true
  }
 },
 "nbformat": 4,
 "nbformat_minor": 4
}
