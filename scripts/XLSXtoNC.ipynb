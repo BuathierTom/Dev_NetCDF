{
 "cells": [
  {
   "attachments": {},
   "cell_type": "markdown",
   "metadata": {},
   "source": [
    "### Imports des modules :"
   ]
  },
  {
   "cell_type": "code",
   "execution_count": 19,
   "metadata": {},
   "outputs": [],
   "source": [
    "import pandas as pd\n",
    "import xarray as xr\n",
    "import numpy as np\n",
    "from datetime import datetime"
   ]
  },
  {
   "attachments": {},
   "cell_type": "markdown",
   "metadata": {},
   "source": [
    "### Lecture du fichier :"
   ]
  },
  {
   "cell_type": "code",
   "execution_count": 20,
   "metadata": {},
   "outputs": [],
   "source": [
    "df = pd.read_excel(\"../data/bresil.xlsx\", keep_default_na=False)\n",
    "\n",
    "# on récupère les données\n",
    "jour = df[\"jour\"].tolist()\n",
    "heure = df[\"heure\"].tolist()\n",
    "# \n",
    "mission = df[\"mission\"].tolist()\n",
    "num_station = df[\"num_station\"].tolist()\n",
    "lat = df[\"lat\"].tolist()\n",
    "lon = df[\"lon\"].tolist()\n",
    "profondeur = df[\"profondeur\"].tolist()\n",
    "chla = df[\"chla\"].tolist()\n",
    "mes = df[\"mes\"].tolist()\n",
    "doc = df[\"doc\"].tolist()\n",
    "poc = df[\"poc\"].tolist()\n",
    "\n",
    "# On compte le nombre de lignes du fichier XLSX\n",
    "row = len(df) # 3334"
   ]
  },
  {
   "attachments": {},
   "cell_type": "markdown",
   "metadata": {},
   "source": [
    "### Traitement des données :"
   ]
  },
  {
   "cell_type": "code",
   "execution_count": 21,
   "metadata": {},
   "outputs": [],
   "source": [
    "# On récupère seulement la date\n",
    "jour = [str(jour[i])[:10] for i in range(len(jour))]\n",
    "heure_str = [str(h) for h in heure]\n",
    "# si il y a pas d'hreures, on met 00:00:00\n",
    "for i in range(len(heure_str)):\n",
    "    if heure_str[i] == \"\":\n",
    "        heure_str[i] = \"00:00:00\"\n",
    "    else:\n",
    "        heure_str[i] = heure_str[i]\n",
    "\n",
    "# On convertit la date avec jour et heure_str en ce modèle : 1995-10-11T15:25:00Z\n",
    "liste_combinee = []\n",
    "for i in range(len(jour)):\n",
    "    date_str = jour[i] + \"T\" + heure_str[i] + \"Z\"\n",
    "    date = datetime.strptime(date_str, \"%Y-%m-%dT%H:%M:%SZ\")\n",
    "    liste_combinee.append(date)\n",
    "    \n",
    "# Pour chla, mes, doc, poc on les definit comme float et si il y a pas de valeur, on met NaN\n",
    "for i in range(len(chla)):\n",
    "    if chla[i] == \"\":\n",
    "        chla[i] = np.nan\n",
    "    else:\n",
    "        chla[i] = float(chla[i])\n",
    "\n",
    "for i in range(len(mes)):\n",
    "    if mes[i] == \"\":\n",
    "        mes[i] = np.nan\n",
    "    else:\n",
    "        mes[i] = float(mes[i])\n",
    "\n",
    "for i in range(len(doc)):\n",
    "    if doc[i] == \"\":\n",
    "        doc[i] = np.nan\n",
    "    else:\n",
    "        doc[i] = float(doc[i])\n",
    "\n",
    "for i in range(len(poc)):\n",
    "    if poc[i] == \"\":\n",
    "        poc[i] = np.nan\n",
    "    else:\n",
    "        poc[i] = float(poc[i])"
   ]
  },
  {
   "attachments": {},
   "cell_type": "markdown",
   "metadata": {},
   "source": [
    "### Remplissage du Dataset :"
   ]
  },
  {
   "cell_type": "code",
   "execution_count": 22,
   "metadata": {},
   "outputs": [],
   "source": [
    "# Les variables de la dataset\n",
    "\n",
    "\n",
    "# Les attributs de la dataset\n",
    "attrs = {\n",
    "    'title': 'Données de la campagne Bresil',\n",
    "    'institution': \"Laboratoire d'Océanologie et de Géosciences\",\n",
    "    'Conventions': 'CF-1.6',\n",
    "    'source': 'CNRS',\n",
    "}\n",
    "    \n",
    "\n",
    "ds = xr.Dataset(\n",
    "    {\n",
    "        \"mission\": (\"row\", mission),\n",
    "        \"num_station\": (\"row\", num_station),\n",
    "        \n",
    "        \"lat\": (\"row\", lat, \n",
    "                    {'units': 'degrees_north',\n",
    "                     'long_name': 'Latitude',\n",
    "                     'standard_name': 'latitude',\n",
    "                     'axis': 'Y'}),\n",
    "        \n",
    "        \"lon\": (\"row\", lon,\n",
    "                    {'units': 'degrees_east',\n",
    "                     'long_name': 'Longitude',\n",
    "                     'standard_name': 'longitude',\n",
    "                     'axis': 'X'}),\n",
    "        \n",
    "        \"time\" : (\"row\", liste_combinee, \n",
    "                    {'long_name': 'Start Time',\n",
    "                     'standard_name': 'time',\n",
    "                     'axis': 'T'}),\n",
    "        \n",
    "        \"profondeur\": (\"row\", profondeur,\n",
    "                        {'units': 'm',\n",
    "                         'long_name': 'Profondeur'}),\n",
    "        \n",
    "        \"chla\": (\"row\", chla,\n",
    "                    {'units': 'µg.L-1',\n",
    "                     'long_name': 'Chlorophylle a'}),\n",
    "        \n",
    "        \"mes\": (\"row\", mes,\n",
    "                    {'units': 'µg.L-1',\n",
    "                     'long_name': 'Matière en suspension'}),\n",
    "        \n",
    "        \"doc\": (\"row\", doc,\n",
    "                    {'units': 'µmol.L-1',\n",
    "                     'long_name': 'Dissolved organic carbon'}),\n",
    "        \n",
    "        \"poc\": (\"row\", poc,\n",
    "                    {'units': 'µmol.L-1',\n",
    "                     'long_name': 'Particulate organic carbon'}),\n",
    "},\n",
    "    attrs=attrs,   \n",
    ")"
   ]
  },
  {
   "cell_type": "code",
   "execution_count": 23,
   "metadata": {},
   "outputs": [
    {
     "name": "stdout",
     "output_type": "stream",
     "text": [
      "<xarray.Dataset>\n",
      "Dimensions:      (row: 3334)\n",
      "Dimensions without coordinates: row\n",
      "Data variables:\n",
      "    mission      (row) <U24 'Nomad_amt1' 'Nomad_amt1' ... 'SEPETIBA-ILHAGRANDE'\n",
      "    num_station  (row) <U28 'S95' 'S96' 'S97' ... 'S-IL32' 'S-IL33' 'S-IL34'\n",
      "    lat          (row) float64 -11.47 -15.58 -19.64 ... -23.14 -23.14 -23.07\n",
      "    lon          (row) float64 -31.55 -33.45 -35.36 ... -44.63 -44.57 -44.43\n",
      "    time         (row) datetime64[ns] 1995-10-11T15:25:00 ... 2022-09-15T11:5...\n",
      "    profondeur   (row) float64 0.0 0.0 0.0 0.0 0.0 0.0 ... 1.0 1.0 1.0 1.0 1.0\n",
      "    chla         (row) float64 -999.0 -999.0 -999.0 ... 0.6852 1.294 0.8704\n",
      "    mes          (row) float64 nan nan nan nan nan ... 4.413 10.05 11.43 3.207\n",
      "    doc          (row) float64 nan nan nan nan nan nan ... nan nan nan nan nan\n",
      "    poc          (row) float64 nan nan nan nan nan nan ... nan nan nan nan nan\n",
      "Attributes:\n",
      "    title:        Données de la campagne Bresil\n",
      "    institution:  Laboratoire d'Océanologie et de Géosciences\n",
      "    Conventions:  CF-1.6\n",
      "    source:       CNRS\n"
     ]
    }
   ],
   "source": [
    "print(ds)"
   ]
  },
  {
   "attachments": {},
   "cell_type": "markdown",
   "metadata": {},
   "source": [
    "### Création du fichier netCDF :"
   ]
  },
  {
   "cell_type": "code",
   "execution_count": 24,
   "metadata": {},
   "outputs": [],
   "source": [
    "ds.to_netcdf(\"../bresil.nc\") #Supprimer le fichier avant de le refaire"
   ]
  }
 ],
 "metadata": {
  "kernelspec": {
   "display_name": "Python 3",
   "language": "python",
   "name": "python3"
  },
  "language_info": {
   "name": "python",
   "version": "3.10.5"
  },
  "orig_nbformat": 4
 },
 "nbformat": 4,
 "nbformat_minor": 2
}
